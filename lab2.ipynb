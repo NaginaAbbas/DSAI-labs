{
 "cells": [
  {
   "cell_type": "markdown",
   "id": "56ca13b7-76e2-4947-8272-ae07d02498a3",
   "metadata": {},
   "source": [
    "# LAB 2 ALL TASKS"
   ]
  },
  {
   "cell_type": "markdown",
   "id": "72811f19-ab0c-4c43-b09a-179ef2dadcc6",
   "metadata": {},
   "source": [
    "# Arithmetic Operations\n",
    "\n",
    "●\tWhich of the following expressions results in SyntaxErrors? Identify the syntax SyntaxErrors and type the reason of error along with the correct code by mentioning its sequence number.\n",
    "\n",
    "n.\t6 * -----------8\n",
    "o.\t8 = people\n",
    "p.\t((((4 ** 3))))\n",
    "q.\t(-(-(-(-5))))\n",
    "r.\t4 += 7 / 2"
   ]
  },
  {
   "cell_type": "code",
   "execution_count": 1,
   "id": "c0bbcf5f-afd0-4008-a777-2a64c4cf168a",
   "metadata": {},
   "outputs": [
    {
     "data": {
      "text/plain": [
       "-48"
      ]
     },
     "execution_count": 1,
     "metadata": {},
     "output_type": "execute_result"
    }
   ],
   "source": [
    "6 * -8\n"
   ]
  },
  {
   "cell_type": "code",
   "execution_count": 2,
   "id": "91016ae9-44be-4563-a8a5-512dfd3887d9",
   "metadata": {},
   "outputs": [],
   "source": [
    "people = 8\n"
   ]
  },
  {
   "cell_type": "code",
   "execution_count": 3,
   "id": "843bed9b-6661-4909-99eb-fdfea84f6863",
   "metadata": {},
   "outputs": [
    {
     "data": {
      "text/plain": [
       "64"
      ]
     },
     "execution_count": 3,
     "metadata": {},
     "output_type": "execute_result"
    }
   ],
   "source": [
    "((((4 ** 3))))\n"
   ]
  },
  {
   "cell_type": "code",
   "execution_count": 4,
   "id": "69c379f1-03bd-4d26-9d9b-d69359b85b5a",
   "metadata": {},
   "outputs": [
    {
     "data": {
      "text/plain": [
       "5"
      ]
     },
     "execution_count": 4,
     "metadata": {},
     "output_type": "execute_result"
    }
   ],
   "source": [
    "(-(-(-(-5))))\n"
   ]
  },
  {
   "cell_type": "code",
   "execution_count": 5,
   "id": "1845dd1c-e03c-4438-a37d-abebb6de0db2",
   "metadata": {},
   "outputs": [],
   "source": [
    "x = 4\n",
    "x += 7 / 2"
   ]
  },
  {
   "cell_type": "markdown",
   "id": "f937d037-c032-4461-baa3-efc1d4bce4fb",
   "metadata": {},
   "source": [
    " ●\tUsing only the techniques you have learned so far, write a program that calculates the square and cube of the numbers from 0 to 10 and uses tabs to print the following table of values:\n",
    " "
   ]
  },
  {
   "cell_type": "code",
   "execution_count": 6,
   "id": "7db6ff36-590d-4b4f-afca-ab8e15358469",
   "metadata": {},
   "outputs": [
    {
     "name": "stdout",
     "output_type": "stream",
     "text": [
      "Number\tSquare\tCube\n",
      "0\t0\t0\n",
      "1\t1\t1\n",
      "2\t4\t8\n",
      "3\t9\t27\n",
      "4\t16\t64\n",
      "5\t25\t125\n",
      "6\t36\t216\n",
      "7\t49\t343\n",
      "8\t64\t512\n",
      "9\t81\t729\n",
      "10\t100\t1000\n"
     ]
    }
   ],
   "source": [
    "print(\"Number\\tSquare\\tCube\")\n",
    "for i in range(11):\n",
    "    print(f\"{i}\\t{i**2}\\t{i**3}\")\n"
   ]
  },
  {
   "cell_type": "markdown",
   "id": "1cd02789-1db0-465f-b75d-80bd43a9b59d",
   "metadata": {},
   "source": [
    "# 3. Swap Values of Two Variables\n",
    "Task: Write a program that assigns values to two variables and then swaps their values."
   ]
  },
  {
   "cell_type": "code",
   "execution_count": 7,
   "id": "1aef56a2-aab3-4dec-8c75-d2e539c870fd",
   "metadata": {},
   "outputs": [
    {
     "name": "stdout",
     "output_type": "stream",
     "text": [
      "a = 10, b = 5\n"
     ]
    }
   ],
   "source": [
    "a = 5\n",
    "b = 10\n",
    "\n",
    "# Swapping the values\n",
    "a, b = b, a\n",
    "\n",
    "print(f\"a = {a}, b = {b}\")\n"
   ]
  },
  {
   "cell_type": "markdown",
   "id": "cfb35c2c-465d-484a-a484-e2edb778bb3f",
   "metadata": {},
   "source": [
    "Task: Write a program that inputs a five-digit number, generates its reverse, and displays it on the screen."
   ]
  },
  {
   "cell_type": "markdown",
   "id": "b6024cc1-e669-4045-9647-a134b80286ea",
   "metadata": {},
   "source": [
    "2. Print Shapes\n",
    "Task: Write a program that prints a box, an oval, an arrow, and a diamond."
   ]
  },
  {
   "cell_type": "code",
   "execution_count": 8,
   "id": "52611176-42e3-42b3-b463-9bf536a23255",
   "metadata": {},
   "outputs": [
    {
     "name": "stdout",
     "output_type": "stream",
     "text": [
      "Box:\n",
      "*****\n",
      "*   *\n",
      "*   *\n",
      "*   *\n",
      "*****\n",
      "\n",
      "Oval:\n",
      "  ***  \n",
      " *   * \n",
      "*     *\n",
      " *   * \n",
      "  ***  \n",
      "\n",
      "Arrow:\n",
      "   *   \n",
      "  ***  \n",
      " ***** \n",
      "*******\n",
      "  ***  \n",
      "  ***  \n",
      "  ***  \n",
      "\n",
      "Diamond:\n",
      "   *   \n",
      "  * *  \n",
      " *   * \n",
      "*     *\n",
      " *   * \n",
      "  * *  \n",
      "   *   \n"
     ]
    }
   ],
   "source": [
    "print(\"Box:\")\n",
    "print(\"*****\")\n",
    "print(\"*   *\")\n",
    "print(\"*   *\")\n",
    "print(\"*   *\")\n",
    "print(\"*****\\n\")\n",
    "\n",
    "print(\"Oval:\")\n",
    "print(\"  ***  \")\n",
    "print(\" *   * \")\n",
    "print(\"*     *\")\n",
    "print(\" *   * \")\n",
    "print(\"  ***  \\n\")\n",
    "\n",
    "print(\"Arrow:\")\n",
    "print(\"   *   \")\n",
    "print(\"  ***  \")\n",
    "print(\" ***** \")\n",
    "print(\"*******\")\n",
    "print(\"  ***  \")\n",
    "print(\"  ***  \")\n",
    "print(\"  ***  \\n\")\n",
    "\n",
    "print(\"Diamond:\")\n",
    "print(\"   *   \")\n",
    "print(\"  * *  \")\n",
    "print(\" *   * \")\n",
    "print(\"*     *\")\n",
    "print(\" *   * \")\n",
    "print(\"  * *  \")\n",
    "print(\"   *   \")\n"
   ]
  },
  {
   "cell_type": "markdown",
   "id": "c0b5eed1-eb72-4746-a8be-d69b5b422910",
   "metadata": {},
   "source": [
    "Task: Write a program that reads three nonzero integers and determines if they could be the sides of a right triangle."
   ]
  },
  {
   "cell_type": "code",
   "execution_count": 9,
   "id": "eeb1def8-4128-47aa-9bd8-53e5531cce97",
   "metadata": {},
   "outputs": [
    {
     "name": "stdin",
     "output_type": "stream",
     "text": [
      "Enter first integer:  0\n",
      "Enter second integer:  4\n",
      "Enter third integer:  6\n"
     ]
    },
    {
     "name": "stdout",
     "output_type": "stream",
     "text": [
      "The three integers are not the sides of a right triangle.\n"
     ]
    }
   ],
   "source": [
    "a = int(input(\"Enter first integer: \"))\n",
    "b = int(input(\"Enter second integer: \"))\n",
    "c = int(input(\"Enter third integer: \"))\n",
    "\n",
    "# Pythagoras theorem\n",
    "if a**2 + b**2 == c**2 or b**2 + c**2 == a**2 or c**2 + a**2 == b**2:\n",
    "    print(\"The three integers are the sides of a right triangle.\")\n",
    "else:\n",
    "    print(\"The three integers are not the sides of a right triangle.\")\n"
   ]
  },
  {
   "cell_type": "markdown",
   "id": "94ededc6-ddb5-4c56-ad4c-05638b4949e1",
   "metadata": {},
   "source": [
    "Task: Write a program to prompt for a score between 0.0 and 1.0. If the score is out of range, print an error message. If the score is within range, print a grade."
   ]
  },
  {
   "cell_type": "code",
   "execution_count": 10,
   "id": "0e02e27a-fa2d-450d-b8ba-0a377fefe95d",
   "metadata": {},
   "outputs": [
    {
     "name": "stdin",
     "output_type": "stream",
     "text": [
      "Enter score between 0.0 and 1.0:  1\n"
     ]
    },
    {
     "name": "stdout",
     "output_type": "stream",
     "text": [
      "A\n"
     ]
    }
   ],
   "source": [
    "score = float(input(\"Enter score between 0.0 and 1.0: \"))\n",
    "\n",
    "if score < 0.0 or score > 1.0:\n",
    "    print(\"Error: Score out of range\")\n",
    "elif score >= 0.9:\n",
    "    print(\"A\")\n",
    "elif score >= 0.8:\n",
    "    print(\"B\")\n",
    "elif score >= 0.7:\n",
    "    print(\"C\")\n",
    "elif score >= 0.6:\n",
    "    print(\"D\")\n",
    "else:\n",
    "    print(\"F\")\n"
   ]
  },
  {
   "cell_type": "markdown",
   "id": "71f585ed-2f1f-4ff2-a2be-c5f774bb1529",
   "metadata": {},
   "source": [
    "Task: Write a program that asks the user for an hour between 1 and 12, asks them to enter am or pm, and asks them how many hours into the future they want to go. Print out what the hour will be that many hours into the future, printing am or pm as appropriate."
   ]
  },
  {
   "cell_type": "code",
   "execution_count": 11,
   "id": "c588568d-f489-4886-81c6-132412c584b1",
   "metadata": {},
   "outputs": [
    {
     "name": "stdin",
     "output_type": "stream",
     "text": [
      "Enter the hour (1-12):  3\n",
      "Enter AM or PM:  4\n",
      "How many hours into the future:  2\n"
     ]
    },
    {
     "name": "stdout",
     "output_type": "stream",
     "text": [
      "In 2 hours, it will be 5 4\n"
     ]
    }
   ],
   "source": [
    "hour = int(input(\"Enter the hour (1-12): \"))\n",
    "period = input(\"Enter AM or PM: \").strip().upper()\n",
    "hours_ahead = int(input(\"How many hours into the future: \"))\n",
    "\n",
    "new_hour = (hour + hours_ahead) % 12\n",
    "if new_hour == 0:\n",
    "    new_hour = 12\n",
    "\n",
    "# Toggle AM/PM if needed\n",
    "if (hour + hours_ahead) // 12 % 2 == 1:\n",
    "    period = \"AM\" if period == \"PM\" else \"PM\"\n",
    "\n",
    "print(f\"In {hours_ahead} hours, it will be {new_hour} {period}\")\n"
   ]
  },
  {
   "cell_type": "markdown",
   "id": "c38a9dd2-7f0c-4c22-87c8-70c3e7becafc",
   "metadata": {},
   "source": [
    "Task: Write a program that reads a five-digit integer and determines whether or not it is a palindrome."
   ]
  },
  {
   "cell_type": "code",
   "execution_count": 12,
   "id": "6e47947b-8542-4e7c-9d3c-815c57624a25",
   "metadata": {},
   "outputs": [
    {
     "name": "stdin",
     "output_type": "stream",
     "text": [
      "Enter a five-digit number:  4\n"
     ]
    },
    {
     "name": "stdout",
     "output_type": "stream",
     "text": [
      "4 is a palindrome.\n"
     ]
    }
   ],
   "source": [
    "number = input(\"Enter a five-digit number: \")\n",
    "\n",
    "if number == number[::-1]:\n",
    "    print(f\"{number} is a palindrome.\")\n",
    "else:\n",
    "    print(f\"{number} is not a palindrome.\")\n"
   ]
  },
  {
   "cell_type": "code",
   "execution_count": null,
   "id": "51a84a26-f58f-497b-bb4d-cc8d7629d000",
   "metadata": {},
   "outputs": [],
   "source": []
  }
 ],
 "metadata": {
  "kernelspec": {
   "display_name": "Python 3 (ipykernel)",
   "language": "python",
   "name": "python3"
  },
  "language_info": {
   "codemirror_mode": {
    "name": "ipython",
    "version": 3
   },
   "file_extension": ".py",
   "mimetype": "text/x-python",
   "name": "python",
   "nbconvert_exporter": "python",
   "pygments_lexer": "ipython3",
   "version": "3.11.7"
  }
 },
 "nbformat": 4,
 "nbformat_minor": 5
}
