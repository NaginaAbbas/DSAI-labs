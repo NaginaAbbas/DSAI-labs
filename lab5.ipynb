{
 "cells": [
  {
   "cell_type": "markdown",
   "id": "cf3a706d-169b-4ac1-899d-b4fae13a804a",
   "metadata": {},
   "source": [
    "# lab 5 Al tasks"
   ]
  },
  {
   "cell_type": "markdown",
   "id": "48731ce0-61b2-49a5-b003-d2c5f225dc5e",
   "metadata": {},
   "source": [
    "\n",
    "Lab Tasks\n",
    "\n",
    "1.\tWrite a program that inputs a line of text. Output the text in uppercase letters and in lowercase letters using built-in functions."
   ]
  },
  {
   "cell_type": "code",
   "execution_count": 1,
   "id": "251484b2-69ce-4b7c-a9e8-40b3606de68a",
   "metadata": {},
   "outputs": [
    {
     "name": "stdin",
     "output_type": "stream",
     "text": [
      "Enter a line of text:  3\n"
     ]
    },
    {
     "name": "stdout",
     "output_type": "stream",
     "text": [
      "Uppercase: 3\n",
      "Lowercase: 3\n"
     ]
    }
   ],
   "source": [
    "# Task 1: Convert Text to Uppercase and Lowercase\n",
    "text = input(\"Enter a line of text: \")\n",
    "\n",
    "print(\"Uppercase:\", text.upper())\n",
    "print(\"Lowercase:\", text.lower())\n"
   ]
  },
  {
   "cell_type": "markdown",
   "id": "f8d038b1-06b9-45ac-ac65-472a40cb1d4d",
   "metadata": {},
   "source": [
    "\n",
    "2.\tA simple way to estimate the number of words in a string is to count the number of spaces in the string. Write a program that asks the user for a string and returns an estimate of how many words are in the string.\n",
    "\n",
    "\n"
   ]
  },
  {
   "cell_type": "code",
   "execution_count": 2,
   "id": "d61c505e-69db-4570-aaf7-e301910a95b8",
   "metadata": {},
   "outputs": [
    {
     "name": "stdin",
     "output_type": "stream",
     "text": [
      "Enter a string:  4\n"
     ]
    },
    {
     "name": "stdout",
     "output_type": "stream",
     "text": [
      "Estimated number of words: 1\n"
     ]
    }
   ],
   "source": [
    "# Task 2: Estimate Number of Words in a String\n",
    "text = input(\"Enter a string: \")\n",
    "\n",
    "# Counting the number of spaces to estimate words\n",
    "word_count = text.count(\" \") + 1\n",
    "\n",
    "print(\"Estimated number of words:\", word_count)\n"
   ]
  },
  {
   "cell_type": "markdown",
   "id": "45550b09-66fc-4b1b-8bf0-674210147db2",
   "metadata": {},
   "source": [
    "3.\tWrite a program that asks the user to enter a string s and then converts s to lowercase, removes all the periods and commas from s, and prints the resulting string.(Hint: use the split method)\n",
    "\n",
    "\n",
    "\n"
   ]
  },
  {
   "cell_type": "code",
   "execution_count": 3,
   "id": "cd0b1abd-190c-417a-814e-1356595b863e",
   "metadata": {},
   "outputs": [
    {
     "name": "stdin",
     "output_type": "stream",
     "text": [
      "Enter a string:  7\n"
     ]
    },
    {
     "name": "stdout",
     "output_type": "stream",
     "text": [
      "Processed string: 7\n"
     ]
    }
   ],
   "source": [
    "# Task 3: Convert String to Lowercase and Remove Periods and Commas\n",
    "s = input(\"Enter a string: \")\n",
    "\n",
    "# Convert to lowercase, remove periods and commas\n",
    "result = s.lower().replace(\".\", \"\").replace(\",\", \"\")\n",
    "\n",
    "print(\"Processed string:\", result)\n"
   ]
  },
  {
   "cell_type": "markdown",
   "id": "9a847dd4-00c4-4d1f-8426-c172e6515c09",
   "metadata": {},
   "source": [
    "4.\tA variable ids refers to the list [4353, 2314, 2956, 3382, 9362, 3900]. Using list methods, do the following:\n",
    "a.\tRemove 3382 from the list.\n",
    "b.\tGet the index of 9362.\n",
    "c.\tInsert 4499 in the list after 9362.\n",
    "d.\tExtend the list by adding [5566, 1830] to it.\n",
    "e.\tReverse the list.\n",
    "f.\tSort the list.\n",
    "\n"
   ]
  },
  {
   "cell_type": "code",
   "execution_count": 4,
   "id": "9ddc0778-83f1-4061-9f55-b995e2232964",
   "metadata": {},
   "outputs": [
    {
     "name": "stdout",
     "output_type": "stream",
     "text": [
      "Index of 9362: 3\n",
      "Final list: [1830, 2314, 2956, 3900, 4353, 4499, 5566, 9362]\n"
     ]
    }
   ],
   "source": [
    "# Task 4: Manipulating a List\n",
    "ids = [4353, 2314, 2956, 3382, 9362, 3900]\n",
    "\n",
    "# a. Remove 3382 from the list\n",
    "ids.remove(3382)\n",
    "\n",
    "# b. Get the index of 9362\n",
    "index_9362 = ids.index(9362)\n",
    "print(f\"Index of 9362: {index_9362}\")\n",
    "\n",
    "# c. Insert 4499 in the list after 9362\n",
    "ids.insert(index_9362 + 1, 4499)\n",
    "\n",
    "# d. Extend the list by adding [5566, 1830] to it\n",
    "ids.extend([5566, 1830])\n",
    "\n",
    "# e. Reverse the list\n",
    "ids.reverse()\n",
    "\n",
    "# f. Sort the list\n",
    "ids.sort()\n",
    "\n",
    "print(\"Final list:\", ids)\n"
   ]
  },
  {
   "cell_type": "markdown",
   "id": "c69a2f42-fe97-45f6-843e-5e8db7570876",
   "metadata": {},
   "source": [
    "5.\tWhen playing games where you have to roll two dice, it is nice to know the odds of each roll. For instance, the odds of rolling a 12 are about 3%, and the odds of rolling a 7 are about 17%. You can compute these mathematically, but if you don’t know the math, you can write a program to do it. To do this, your program should simulate rolling two dice about 10,000 times and compute and print out the percentage of rolls that come out to be 2, 3, 4, . . . , 12. Print the results in a table format.\n",
    "\n"
   ]
  },
  {
   "cell_type": "code",
   "execution_count": 5,
   "id": "1c70bd9e-bc6a-4c67-97df-38be72c12aff",
   "metadata": {},
   "outputs": [
    {
     "name": "stdout",
     "output_type": "stream",
     "text": [
      "Roll\tProbability\n",
      "2\t2.72%\n",
      "3\t5.42%\n",
      "4\t8.33%\n",
      "5\t11.23%\n",
      "6\t13.29%\n",
      "7\t17.02%\n",
      "8\t14.08%\n",
      "9\t11.30%\n",
      "10\t8.38%\n",
      "11\t5.59%\n",
      "12\t2.64%\n"
     ]
    }
   ],
   "source": [
    "import random\n",
    "\n",
    "# Task 5: Simulate Rolling Two Dice and Compute Odds\n",
    "rolls = [0] * 13  # Initialize list for counts of each possible roll (2-12)\n",
    "\n",
    "# Simulate 10,000 rolls of two dice\n",
    "for _ in range(10000):\n",
    "    roll = random.randint(1, 6) + random.randint(1, 6)\n",
    "    rolls[roll] += 1\n",
    "\n",
    "# Print the results in table format\n",
    "print(\"Roll\\tProbability\")\n",
    "for i in range(2, 13):\n",
    "    print(f\"{i}\\t{rolls[i] / 100:.2f}%\")\n"
   ]
  },
  {
   "cell_type": "markdown",
   "id": "ffdd496d-6c49-404c-8fc5-de8d5bfbc5c2",
   "metadata": {},
   "source": [
    "6.\tWrite a function each for mean, median and mode that accepts a list as an argument. The mean, median, and mode functions return an integer.\n",
    "\n",
    "a.\tUsing these functions, write a program that generates a 99-element list of random numbers between 1 and 100 (inclusive) and computes its mean, median, mode.\n"
   ]
  },
  {
   "cell_type": "code",
   "execution_count": 6,
   "id": "bebef076-1fe9-49d2-8cec-225b60184034",
   "metadata": {},
   "outputs": [
    {
     "name": "stdout",
     "output_type": "stream",
     "text": [
      "Mean: 50.97979797979798\n",
      "Median: 53\n",
      "Mode: [68, 31, 38, 62]\n"
     ]
    }
   ],
   "source": [
    "import random\n",
    "from collections import Counter\n",
    "\n",
    "# Task 6: Mean, Median, and Mode Functions\n",
    "def mean(numbers):\n",
    "    return sum(numbers) / len(numbers)\n",
    "\n",
    "def median(numbers):\n",
    "    sorted_numbers = sorted(numbers)\n",
    "    mid = len(sorted_numbers) // 2\n",
    "    if len(sorted_numbers) % 2 == 0:\n",
    "        return (sorted_numbers[mid - 1] + sorted_numbers[mid]) / 2\n",
    "    else:\n",
    "        return sorted_numbers[mid]\n",
    "\n",
    "def mode(numbers):\n",
    "    counter = Counter(numbers)\n",
    "    max_count = max(counter.values())\n",
    "    mode = [k for k, v in counter.items() if v == max_count]\n",
    "    return mode[0] if len(mode) == 1 else mode\n",
    "\n",
    "# Generate a list of 99 random numbers between 1 and 100\n",
    "random_numbers = [random.randint(1, 100) for _ in range(99)]\n",
    "\n",
    "# Compute and print the mean, median, and mode\n",
    "print(\"Mean:\", mean(random_numbers))\n",
    "print(\"Median:\", median(random_numbers))\n",
    "print(\"Mode:\", mode(random_numbers))\n"
   ]
  },
  {
   "cell_type": "markdown",
   "id": "42475c9d-1e24-498b-85c1-879a0838a559",
   "metadata": {},
   "source": [
    "\n",
    "7.\tWrite a program that rotates the elements of a list so that the element at the first index moves to the second index, the element in the second index moves to the third index, etc., and the element in the last index moves to the first index.\n",
    "\n"
   ]
  },
  {
   "cell_type": "code",
   "execution_count": 7,
   "id": "eb5dedf1-8fa7-428f-aaf0-a35b1dc34117",
   "metadata": {},
   "outputs": [
    {
     "name": "stdout",
     "output_type": "stream",
     "text": [
      "Rotated list: [2, 3, 4, 5, 1]\n"
     ]
    }
   ],
   "source": [
    "# Task 7: Rotate Elements in a List\n",
    "def rotate_list(lst):\n",
    "    return lst[1:] + [lst[0]]\n",
    "\n",
    "# Example usage\n",
    "numbers = [1, 2, 3, 4, 5]\n",
    "rotated_numbers = rotate_list(numbers)\n",
    "print(\"Rotated list:\", rotated_numbers)\n"
   ]
  },
  {
   "cell_type": "markdown",
   "id": "344cd1b6-f733-4dea-b899-e3f7267b9d5a",
   "metadata": {},
   "source": [
    "8.\tWrite a program that generates 100 random integers that are either 0 or 1. Then find the longest run of zeros, the largest number of zeros in a row. For instance, the longest run of zeros in [1,0,1,1,0,0,0,0,1,0,0] is 4.\n"
   ]
  },
  {
   "cell_type": "code",
   "execution_count": 8,
   "id": "281b0245-900f-4f73-902f-5443f9fba4f3",
   "metadata": {},
   "outputs": [
    {
     "name": "stdout",
     "output_type": "stream",
     "text": [
      "Generated list: [0, 1, 0, 0, 1, 1, 0, 1, 1, 1, 1, 1, 0, 0, 0, 1, 1, 1, 1, 0, 1, 1, 1, 1, 0, 1, 0, 0, 0, 1, 0, 1, 0, 0, 0, 1, 1, 1, 0, 0, 0, 1, 0, 1, 0, 0, 0, 1, 1, 1, 0, 1, 1, 0, 0, 0, 0, 0, 1, 1, 1, 1, 0, 1, 1, 0, 0, 0, 1, 0, 1, 0, 1, 1, 1, 0, 1, 0, 1, 0, 1, 1, 0, 1, 0, 0, 1, 1, 0, 1, 1, 0, 0, 1, 0, 0, 0, 0, 1, 0]\n",
      "Longest run of zeros: 5\n"
     ]
    }
   ],
   "source": [
    "import random\n",
    "\n",
    "# Task 8: Find the Longest Run of Zeros\n",
    "random_integers = [random.randint(0, 1) for _ in range(100)]\n",
    "print(\"Generated list:\", random_integers)\n",
    "\n",
    "max_run = 0\n",
    "current_run = 0\n",
    "\n",
    "for number in random_integers:\n",
    "    if number == 0:\n",
    "        current_run += 1\n",
    "        if current_run > max_run:\n",
    "            max_run = current_run\n",
    "    else:\n",
    "        current_run = 0\n",
    "\n",
    "print(\"Longest run of zeros:\", max_run)\n"
   ]
  },
  {
   "cell_type": "markdown",
   "id": "c188e25e-30c5-425f-8e01-e6f7998d63b8",
   "metadata": {},
   "source": [
    "9.\tRead the size of the matrix from the user. Populate it with data from the user. Print the original ,transpose  and  product of the matrices on the screen.\n"
   ]
  },
  {
   "cell_type": "code",
   "execution_count": 9,
   "id": "5a909a37-d6dd-4452-9bf0-074c6f075a78",
   "metadata": {},
   "outputs": [
    {
     "name": "stdin",
     "output_type": "stream",
     "text": [
      "Enter the size of the matrix:  9\n"
     ]
    },
    {
     "name": "stdout",
     "output_type": "stream",
     "text": [
      "Enter the matrix values row by row:\n"
     ]
    },
    {
     "name": "stdin",
     "output_type": "stream",
     "text": [
      " 3\n",
      " 5\n",
      " 4\n",
      " 2\n",
      " 6\n",
      " 0\n",
      " 8\n",
      " 6\n",
      " 5\n"
     ]
    },
    {
     "name": "stdout",
     "output_type": "stream",
     "text": [
      "Original Matrix:\n",
      "[[3]\n",
      " [5]\n",
      " [4]\n",
      " [2]\n",
      " [6]\n",
      " [0]\n",
      " [8]\n",
      " [6]\n",
      " [5]]\n",
      "Transpose of Matrix:\n",
      "[[3 5 4 2 6 0 8 6 5]]\n",
      "Product of Matrix and its Transpose:\n",
      "[[ 9 15 12  6 18  0 24 18 15]\n",
      " [15 25 20 10 30  0 40 30 25]\n",
      " [12 20 16  8 24  0 32 24 20]\n",
      " [ 6 10  8  4 12  0 16 12 10]\n",
      " [18 30 24 12 36  0 48 36 30]\n",
      " [ 0  0  0  0  0  0  0  0  0]\n",
      " [24 40 32 16 48  0 64 48 40]\n",
      " [18 30 24 12 36  0 48 36 30]\n",
      " [15 25 20 10 30  0 40 30 25]]\n"
     ]
    }
   ],
   "source": [
    "import numpy as np\n",
    "\n",
    "# Task 9: Matrix Operations\n",
    "size = int(input(\"Enter the size of the matrix: \"))\n",
    "\n",
    "# Populate matrix with user input\n",
    "matrix = []\n",
    "print(\"Enter the matrix values row by row:\")\n",
    "for i in range(size):\n",
    "    row = list(map(int, input().split()))\n",
    "    matrix.append(row)\n",
    "\n",
    "matrix = np.array(matrix)\n",
    "transpose_matrix = matrix.T\n",
    "product_matrix = np.dot(matrix, transpose_matrix)\n",
    "\n",
    "print(\"Original Matrix:\")\n",
    "print(matrix)\n",
    "\n",
    "print(\"Transpose of Matrix:\")\n",
    "print(transpose_matrix)\n",
    "\n",
    "print(\"Product of Matrix and its Transpose:\")\n",
    "print(product_matrix)\n"
   ]
  },
  {
   "cell_type": "markdown",
   "id": "8a5695c0-f4e2-4b05-a625-ee35be6afdb5",
   "metadata": {},
   "source": [
    "--------------------------------THE END-----------------------"
   ]
  }
 ],
 "metadata": {
  "kernelspec": {
   "display_name": "Python 3 (ipykernel)",
   "language": "python",
   "name": "python3"
  },
  "language_info": {
   "codemirror_mode": {
    "name": "ipython",
    "version": 3
   },
   "file_extension": ".py",
   "mimetype": "text/x-python",
   "name": "python",
   "nbconvert_exporter": "python",
   "pygments_lexer": "ipython3",
   "version": "3.11.7"
  }
 },
 "nbformat": 4,
 "nbformat_minor": 5
}
