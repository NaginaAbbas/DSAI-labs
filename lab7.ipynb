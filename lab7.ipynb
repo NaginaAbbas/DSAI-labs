{
 "cells": [
  {
   "cell_type": "markdown",
   "id": "92be5b48-17ae-4e31-9b9c-06375636c001",
   "metadata": {},
   "source": [
    "# lab 7 All tasks"
   ]
  },
  {
   "cell_type": "markdown",
   "id": "498a28f0-e09e-461f-b3e0-6208a5d38d87",
   "metadata": {},
   "source": [
    "# Question 1:\r\n",
    "Create a 2D NumPy array with dimensions 5x5. Replace all elements in the last column with the mean value of that column."
   ]
  },
  {
   "cell_type": "code",
   "execution_count": 1,
   "id": "6a4e8ef9-9af2-4f25-b1e1-bef495d30ab4",
   "metadata": {},
   "outputs": [
    {
     "name": "stdout",
     "output_type": "stream",
     "text": [
      "Modified array with the last column replaced by the mean value:\n",
      "[[ 69  74  26  47  41]\n",
      " [ 52  33  14  94  41]\n",
      " [ 99  56  37  18  41]\n",
      " [100  18  41  51  41]\n",
      " [ 89  54  78   6  41]]\n"
     ]
    }
   ],
   "source": [
    "import numpy as np\n",
    "\n",
    "# Create a 5x5 NumPy array with random values\n",
    "array_2d = np.random.randint(1, 101, size=(5, 5))\n",
    "\n",
    "# Calculate the mean of the last column\n",
    "mean_last_column = np.mean(array_2d[:, -1])\n",
    "\n",
    "# Replace all elements in the last column with the mean value\n",
    "array_2d[:, -1] = mean_last_column\n",
    "\n",
    "print(\"Modified array with the last column replaced by the mean value:\")\n",
    "print(array_2d)\n"
   ]
  },
  {
   "cell_type": "markdown",
   "id": "08a59f8a-ad6c-49bc-a17d-4c5f4ef6479e",
   "metadata": {},
   "source": [
    "# Question 2\r\n",
    "Create a NumPy array with the numbers 1 to 100. Reshape it into a 10x10 array. Calculate the sum of each row and find the row with the maximum sum.(Hint: you can use 'np.random.randint' to create the 2d array and fill it with random numbers."
   ]
  },
  {
   "cell_type": "code",
   "execution_count": 2,
   "id": "afd986c0-c4ff-4713-8dd6-0186512153e1",
   "metadata": {},
   "outputs": [
    {
     "name": "stdout",
     "output_type": "stream",
     "text": [
      "Array reshaped into 10x10:\n",
      "[[  1.   2.   3.   4.   5.   6.   7.   8.   9.  10.]\n",
      " [ 11.  12.  13.  14.  15.  16.  17.  18.  19.  20.]\n",
      " [ 21.  22.  23.  24.  25.  26.  27.  28.  29.  30.]\n",
      " [ 31.  32.  33.  34.  35.  36.  37.  38.  39.  40.]\n",
      " [ 41.  42.  43.  44.  45.  46.  47.  48.  49.  50.]\n",
      " [ 51.  52.  53.  54.  55.  56.  57.  58.  59.  60.]\n",
      " [ 61.  62.  63.  64.  65.  66.  67.  68.  69.  70.]\n",
      " [ 71.  72.  73.  74.  75.  76.  77.  78.  79.  80.]\n",
      " [ 81.  82.  83.  84.  85.  86.  87.  88.  89.  90.]\n",
      " [ 91.  92.  93.  94.  95.  96.  97.  98.  99. 100.]]\n",
      "\n",
      "Sum of each row:\n",
      "[ 55. 155. 255. 355. 455. 555. 655. 755. 855. 955.]\n",
      "\n",
      "Row with the maximum sum (0-indexed): 9\n"
     ]
    }
   ],
   "source": [
    "import numpy as np\n",
    "\n",
    "# Create a NumPy array with numbers 1 to 100\n",
    "array_1d = np.linspace(1, 100, 100)\n",
    "\n",
    "# Reshape it into a 10x10 array\n",
    "array_2d = array_1d.reshape(10, 10)\n",
    "\n",
    "# Calculate the sum of each row\n",
    "row_sums = np.sum(array_2d, axis=1)\n",
    "\n",
    "# Find the row with the maximum sum\n",
    "max_sum_row = np.argmax(row_sums)\n",
    "\n",
    "print(\"Array reshaped into 10x10:\")\n",
    "print(array_2d)\n",
    "\n",
    "print(\"\\nSum of each row:\")\n",
    "print(row_sums)\n",
    "\n",
    "print(\"\\nRow with the maximum sum (0-indexed):\", max_sum_row)\n"
   ]
  },
  {
   "cell_type": "markdown",
   "id": "e34b59e0-ff91-43fa-a19c-aa1a562bcb36",
   "metadata": {},
   "source": [
    "---------------------------The end-------------------"
   ]
  }
 ],
 "metadata": {
  "kernelspec": {
   "display_name": "Python 3 (ipykernel)",
   "language": "python",
   "name": "python3"
  },
  "language_info": {
   "codemirror_mode": {
    "name": "ipython",
    "version": 3
   },
   "file_extension": ".py",
   "mimetype": "text/x-python",
   "name": "python",
   "nbconvert_exporter": "python",
   "pygments_lexer": "ipython3",
   "version": "3.11.7"
  }
 },
 "nbformat": 4,
 "nbformat_minor": 5
}
