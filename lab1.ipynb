{
 "cells": [
  {
   "cell_type": "markdown",
   "id": "9e4e57eb-81e9-472e-917b-64ee59e0fed8",
   "metadata": {},
   "source": [
    "# Lab Task 1\n",
    "Task: Write a program in Jupyter Notebook that prints \"Hello, World\" on the screen."
   ]
  },
  {
   "cell_type": "code",
   "execution_count": 1,
   "id": "9629200b-8015-4d16-859d-0613ddab8dd1",
   "metadata": {},
   "outputs": [
    {
     "name": "stdout",
     "output_type": "stream",
     "text": [
      "Hello, World\n"
     ]
    }
   ],
   "source": [
    "print(\"Hello, World\")\n"
   ]
  },
  {
   "cell_type": "markdown",
   "id": "559beaad-ca66-4b2e-bc19-a22b850738fe",
   "metadata": {},
   "source": [
    "Task: Using the program in (1), what happens if we remove the closing quotation around the text \"Hello, World\"?"
   ]
  },
  {
   "cell_type": "code",
   "execution_count": 2,
   "id": "a3e8251b-54b1-47bc-8e2f-7ef2bf6e816d",
   "metadata": {},
   "outputs": [
    {
     "ename": "SyntaxError",
     "evalue": "unterminated string literal (detected at line 1) (3755911955.py, line 1)",
     "output_type": "error",
     "traceback": [
      "\u001b[1;36m  Cell \u001b[1;32mIn[2], line 1\u001b[1;36m\u001b[0m\n\u001b[1;33m    print(\"Hello, World)\u001b[0m\n\u001b[1;37m          ^\u001b[0m\n\u001b[1;31mSyntaxError\u001b[0m\u001b[1;31m:\u001b[0m unterminated string literal (detected at line 1)\n"
     ]
    }
   ],
   "source": [
    "print(\"Hello, World)\n"
   ]
  },
  {
   "cell_type": "markdown",
   "id": "80cda3ae-38eb-49b0-880b-23e6119992b8",
   "metadata": {},
   "source": [
    "Task: Using the program in (1), what happens if we remove both the quotations around the text \"Hello, World\"? How is it different from the behavior in (2)?"
   ]
  },
  {
   "cell_type": "code",
   "execution_count": 3,
   "id": "be80f5de-b690-41c5-a21e-5b0d3834d34f",
   "metadata": {},
   "outputs": [
    {
     "ename": "NameError",
     "evalue": "name 'Hello' is not defined",
     "output_type": "error",
     "traceback": [
      "\u001b[1;31m---------------------------------------------------------------------------\u001b[0m",
      "\u001b[1;31mNameError\u001b[0m                                 Traceback (most recent call last)",
      "Cell \u001b[1;32mIn[3], line 1\u001b[0m\n\u001b[1;32m----> 1\u001b[0m \u001b[38;5;28mprint\u001b[39m(Hello, World)\n",
      "\u001b[1;31mNameError\u001b[0m: name 'Hello' is not defined"
     ]
    }
   ],
   "source": [
    "print(Hello, World)\n"
   ]
  },
  {
   "cell_type": "markdown",
   "id": "effddf6d-1f01-44a9-a4ed-cd6906b37f52",
   "metadata": {},
   "source": [
    "# Lab Task 4: Print a Pattern\n",
    "Task: Write a program using the print() command that produces the following output:"
   ]
  },
  {
   "cell_type": "markdown",
   "id": "eb64e803-d99c-479c-b4d2-2b6f42dca827",
   "metadata": {},
   "source": [
    "    *\n",
    "   **\n",
    "  ***\n",
    " ****\n",
    "*****\n"
   ]
  },
  {
   "cell_type": "code",
   "execution_count": 6,
   "id": "750defc6-abf7-4974-964e-7ccbf3e705e3",
   "metadata": {},
   "outputs": [
    {
     "name": "stdout",
     "output_type": "stream",
     "text": [
      "    *\n",
      "   **\n",
      "  ***\n",
      " ****\n",
      "*****\n"
     ]
    }
   ],
   "source": [
    "print(\"    *\")\n",
    "print(\"   **\")\n",
    "print(\"  ***\")\n",
    "print(\" ****\")\n",
    "print(\"*****\")\n"
   ]
  },
  {
   "cell_type": "code",
   "execution_count": 7,
   "id": "c06d7871-fdf6-463f-88a0-524143671da8",
   "metadata": {},
   "outputs": [
    {
     "name": "stdout",
     "output_type": "stream",
     "text": [
      "    *\n",
      "   **\n",
      "  ***\n",
      " ****\n",
      "*****\n"
     ]
    }
   ],
   "source": [
    "for i in range(1, 6):\n",
    "    print(\" \" * (5 - i) + \"*\" * i)\n"
   ]
  },
  {
   "cell_type": "markdown",
   "id": "f439d406-fbf4-4ed3-ab6d-5777b07e35c3",
   "metadata": {},
   "source": [
    "----------------THE END--------------"
   ]
  }
 ],
 "metadata": {
  "kernelspec": {
   "display_name": "Python 3 (ipykernel)",
   "language": "python",
   "name": "python3"
  },
  "language_info": {
   "codemirror_mode": {
    "name": "ipython",
    "version": 3
   },
   "file_extension": ".py",
   "mimetype": "text/x-python",
   "name": "python",
   "nbconvert_exporter": "python",
   "pygments_lexer": "ipython3",
   "version": "3.11.7"
  }
 },
 "nbformat": 4,
 "nbformat_minor": 5
}
