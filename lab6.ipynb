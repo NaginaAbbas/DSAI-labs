{
 "cells": [
  {
   "cell_type": "markdown",
   "id": "88904a06-2dcd-466d-b2c0-640d01dda8f4",
   "metadata": {},
   "source": [
    "# lab 6 Al tasks"
   ]
  },
  {
   "cell_type": "markdown",
   "id": "021b60b4-34f0-4bcf-958b-6c4aac70914e",
   "metadata": {},
   "source": [
    "Lab Tasks\n",
    "1.\tWrite a Python class called Rectangle that has attributes length and width. Implement methods to calculate the area and perimeter of the rectangle."
   ]
  },
  {
   "cell_type": "code",
   "execution_count": 1,
   "id": "36f7954f-24b7-4c81-b120-75fa6511c885",
   "metadata": {},
   "outputs": [
    {
     "name": "stdout",
     "output_type": "stream",
     "text": [
      "Area of the rectangle: 15\n",
      "Perimeter of the rectangle: 16\n"
     ]
    }
   ],
   "source": [
    "class Rectangle:\n",
    "    def __init__(self, length, width):\n",
    "        self.length = length\n",
    "        self.width = width\n",
    "\n",
    "    def area(self):\n",
    "        return self.length * self.width\n",
    "\n",
    "    def perimeter(self):\n",
    "        return 2 * (self.length + self.width)\n",
    "\n",
    "# Example usage:\n",
    "rect = Rectangle(5, 3)\n",
    "print(f\"Area of the rectangle: {rect.area()}\")         # Output: 15\n",
    "print(f\"Perimeter of the rectangle: {rect.perimeter()}\") # Output: 16\n"
   ]
  },
  {
   "cell_type": "markdown",
   "id": "433de341-5804-405b-b302-6222453e2e86",
   "metadata": {},
   "source": [
    "\n",
    "2.\tCreate a class hierarchy in Python consisting of a base class called Animal, and derived classes Dog, Cat, and Bird. Each derived class should have its unique method. Instantiate objects of each class and demonstrate polymorphism by calling a common method on each object.\n",
    "\n"
   ]
  },
  {
   "cell_type": "code",
   "execution_count": 2,
   "id": "85cb500b-bcd2-4017-b9f9-e767dd299da5",
   "metadata": {},
   "outputs": [
    {
     "name": "stdout",
     "output_type": "stream",
     "text": [
      "Woof! Woof!\n",
      "Meow! Meow!\n",
      "Chirp! Chirp!\n",
      "Dog is fetching the ball!\n",
      "Cat is scratching the furniture!\n",
      "Bird is flying!\n"
     ]
    }
   ],
   "source": [
    "class Animal:\n",
    "    def sound(self):\n",
    "        return \"Some generic animal sound\"\n",
    "\n",
    "class Dog(Animal):\n",
    "    def sound(self):\n",
    "        return \"Woof! Woof!\"\n",
    "\n",
    "    def fetch(self):\n",
    "        return \"Dog is fetching the ball!\"\n",
    "\n",
    "class Cat(Animal):\n",
    "    def sound(self):\n",
    "        return \"Meow! Meow!\"\n",
    "\n",
    "    def scratch(self):\n",
    "        return \"Cat is scratching the furniture!\"\n",
    "\n",
    "class Bird(Animal):\n",
    "    def sound(self):\n",
    "        return \"Chirp! Chirp!\"\n",
    "\n",
    "    def fly(self):\n",
    "        return \"Bird is flying!\"\n",
    "\n",
    "# Example usage:\n",
    "dog = Dog()\n",
    "cat = Cat()\n",
    "bird = Bird()\n",
    "\n",
    "animals = [dog, cat, bird]\n",
    "\n",
    "for animal in animals:\n",
    "    print(animal.sound())\n",
    "\n",
    "# Demonstrating unique methods\n",
    "print(dog.fetch())   # Output: Dog is fetching the ball!\n",
    "print(cat.scratch()) # Output: Cat is scratching the furniture!\n",
    "print(bird.fly())    # Output: Bird is flying!\n"
   ]
  },
  {
   "cell_type": "markdown",
   "id": "c02bd937-07c4-4dbe-9de9-a17f701d7518",
   "metadata": {},
   "source": [
    "3.\tWrite a Python class called Shape with a method area() that returns the area of the shape. Create two subclasses, Rectangle and Circle, each overriding the area() method to calculate the area of the specific shape. Instantiate objects of each class and display their areas."
   ]
  },
  {
   "cell_type": "code",
   "execution_count": 3,
   "id": "7a17b36f-d523-4e75-a1ec-ef6857066b1d",
   "metadata": {},
   "outputs": [
    {
     "name": "stdout",
     "output_type": "stream",
     "text": [
      "Area of the rectangle: 15\n",
      "Area of the circle: 50.26548245743669\n"
     ]
    }
   ],
   "source": [
    "import math\n",
    "\n",
    "class Shape:\n",
    "    def area(self):\n",
    "        raise NotImplementedError(\"This method should be overridden by subclasses\")\n",
    "\n",
    "class Rectangle(Shape):\n",
    "    def __init__(self, length, width):\n",
    "        self.length = length\n",
    "        self.width = width\n",
    "\n",
    "    def area(self):\n",
    "        return self.length * self.width\n",
    "\n",
    "class Circle(Shape):\n",
    "    def __init__(self, radius):\n",
    "        self.radius = radius\n",
    "\n",
    "    def area(self):\n",
    "        return math.pi * (self.radius ** 2)\n",
    "\n",
    "# Example usage:\n",
    "rect = Rectangle(5, 3)\n",
    "circle = Circle(4)\n",
    "\n",
    "print(f\"Area of the rectangle: {rect.area()}\") # Output: 15\n",
    "print(f\"Area of the circle: {circle.area()}\")  # Output: ~50.27\n"
   ]
  },
  {
   "cell_type": "markdown",
   "id": "61257028-e93f-46ad-94ee-34ae330b7d21",
   "metadata": {},
   "source": [
    "--------------------------------------THE END--------------------------------"
   ]
  }
 ],
 "metadata": {
  "kernelspec": {
   "display_name": "Python 3 (ipykernel)",
   "language": "python",
   "name": "python3"
  },
  "language_info": {
   "codemirror_mode": {
    "name": "ipython",
    "version": 3
   },
   "file_extension": ".py",
   "mimetype": "text/x-python",
   "name": "python",
   "nbconvert_exporter": "python",
   "pygments_lexer": "ipython3",
   "version": "3.11.7"
  }
 },
 "nbformat": 4,
 "nbformat_minor": 5
}
